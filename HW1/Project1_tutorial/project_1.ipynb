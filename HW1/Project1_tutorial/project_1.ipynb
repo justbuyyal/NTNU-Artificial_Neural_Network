{
 "metadata": {
  "language_info": {
   "codemirror_mode": {
    "name": "ipython",
    "version": 3
   },
   "file_extension": ".py",
   "mimetype": "text/x-python",
   "name": "python",
   "nbconvert_exporter": "python",
   "pygments_lexer": "ipython3",
   "version": "3.6.13-final"
  },
  "orig_nbformat": 2,
  "kernelspec": {
   "name": "python3",
   "display_name": "Python 3",
   "language": "python"
  }
 },
 "nbformat": 4,
 "nbformat_minor": 2,
 "cells": [
  {
   "cell_type": "code",
   "execution_count": 58,
   "metadata": {},
   "outputs": [],
   "source": [
    "import numpy as np\n",
    "import pandas as pd\n",
    "import matplotlib.pyplot as plt\n",
    "from keras.models import Sequential\n",
    "from keras.layers import Dense, LSTM, TimeDistributed, Flatten, Dropout\n",
    "from keras.callbacks import EarlyStopping\n",
    "from sklearn.preprocessing import normalize"
   ]
  },
  {
   "cell_type": "code",
   "execution_count": 59,
   "metadata": {},
   "outputs": [],
   "source": [
    "def augFeatures(data):\n",
    "    data['Date'] = pd.to_datetime(data['Date'])\n",
    "    data['year'] = data['Date'].dt.year\n",
    "    data['month'] = data['Date'].dt.month\n",
    "    data['day'] = data['Date'].dt.day\n",
    "    data['week'] = data['Date'].dt.dayofweek\n",
    "    data = data.drop(['Date'], axis=1)\n",
    "    return data"
   ]
  },
  {
   "cell_type": "code",
   "execution_count": 60,
   "metadata": {},
   "outputs": [],
   "source": [
    "data = pd.read_csv('6269_adapt.csv')\n",
    "stock = pd.read_csv('stock_index.csv')\n",
    "stock = stock.rename(columns={'Open':'s_open', 'High':'s_high', 'Low':'s_low', 'Close':'s_close'})\n",
    "stock = stock.drop(['Date'], axis=1)\n",
    "train = pd.concat([data, stock], axis=1, join='inner')\n",
    "train = augFeatures(train)"
   ]
  },
  {
   "cell_type": "code",
   "execution_count": 61,
   "metadata": {},
   "outputs": [],
   "source": [
    "# build Data, use last 5 days to predict next 5 days\n",
    "def buildTrain(Train, pastDay=5, futureDay=5):\n",
    "    Y = Train['Close']\n",
    "    X = Train.drop(['Close'], axis=1)\n",
    "    X = normalize(X.values)\n",
    "    x_test = X[Train.iloc[len(Train)-5:].index]\n",
    "    x_train, y_train = [], []\n",
    "    for i in range(Train.shape[0]-futureDay-pastDay):\n",
    "        x_train.append(np.array(X[i:i+pastDay]))\n",
    "        y_train.append(np.array(Y.iloc[i+pastDay:i+pastDay+futureDay]))\n",
    "    return np.array(x_train), np.array(y_train), x_test"
   ]
  },
  {
   "cell_type": "code",
   "execution_count": 62,
   "metadata": {},
   "outputs": [],
   "source": [
    "def shuffle(X,Y):\n",
    "  np.random.seed(10)\n",
    "  randomList = np.arange(X.shape[0])\n",
    "  np.random.shuffle(randomList)\n",
    "  return X[randomList], Y[randomList]"
   ]
  },
  {
   "cell_type": "code",
   "execution_count": 63,
   "metadata": {},
   "outputs": [],
   "source": [
    "def splitData(X,Y,rate):\n",
    "  x = int(X.shape[0]*rate)\n",
    "  y = int(Y.shape[0]*rate)\n",
    "  X_train = X[x:]\n",
    "  Y_train = Y[y:]\n",
    "  X_val = X[:x]\n",
    "  Y_val = Y[:y]\n",
    "  return X_train, Y_train, X_val, Y_val"
   ]
  },
  {
   "cell_type": "code",
   "execution_count": 64,
   "metadata": {},
   "outputs": [],
   "source": [
    "# Build training data and normalization\n",
    "X_train, Y_train, X_pre = buildTrain(train, pastDay=5, futureDay=5)\n",
    "\n",
    "# Shuffle Data\n",
    "X_train, Y_train = shuffle(X_train, Y_train)\n",
    "\n",
    "# Split Data to training set and validation set\n",
    "X_train, Y_train, X_val, Y_val = splitData(X_train, Y_train, 0.1)"
   ]
  },
  {
   "cell_type": "code",
   "execution_count": 65,
   "metadata": {},
   "outputs": [],
   "source": [
    "# Build Model\n",
    "def buildOneToOneModel(shape):\n",
    "  model = Sequential()\n",
    "  model.add(LSTM(units = 256, input_shape=(shape[1], shape[2]), return_sequences=True))\n",
    "  model.add(Dropout(0.2))\n",
    "  model.add(LSTM(units = 256, return_sequences=True))\n",
    "  model.add(Dropout(0.2))\n",
    "  # model.add(LSTM(units = 256, return_sequences=True))\n",
    "  # model.add(Dropout(0.2))\n",
    "  model.add(TimeDistributed(Dense(1)))\n",
    "  model.add(Flatten())\n",
    "  model.add(Dense(64, activation='linear'))\n",
    "  model.add(Dense(32, activation='linear'))\n",
    "  model.add(Dense(32, activation='relu'))\n",
    "  # Add output layer\n",
    "  model.add(Dense(5))\n",
    "  # Compiling the RNN\n",
    "  model.compile(loss=\"mean_absolute_error\", optimizer=\"adam\",metrics=['mean_absolute_error'])\n",
    "  model.summary()\n",
    "  return model"
   ]
  },
  {
   "cell_type": "code",
   "execution_count": 66,
   "metadata": {},
   "outputs": [
    {
     "output_type": "stream",
     "name": "stdout",
     "text": [
      "Model: \"sequential_4\"\n_________________________________________________________________\nLayer (type)                 Output Shape              Param #   \n=================================================================\nlstm_9 (LSTM)                (None, 5, 256)            274432    \n_________________________________________________________________\ndropout_9 (Dropout)          (None, 5, 256)            0         \n_________________________________________________________________\nlstm_10 (LSTM)               (None, 5, 256)            525312    \n_________________________________________________________________\ndropout_10 (Dropout)         (None, 5, 256)            0         \n_________________________________________________________________\ntime_distributed_4 (TimeDist (None, 5, 1)              257       \n_________________________________________________________________\nflatten_4 (Flatten)          (None, 5)                 0         \n_________________________________________________________________\ndense_17 (Dense)             (None, 64)                384       \n_________________________________________________________________\ndense_18 (Dense)             (None, 32)                2080      \n_________________________________________________________________\ndense_19 (Dense)             (None, 32)                1056      \n_________________________________________________________________\ndense_20 (Dense)             (None, 5)                 165       \n=================================================================\nTotal params: 803,686\nTrainable params: 803,686\nNon-trainable params: 0\n_________________________________________________________________\n"
     ]
    }
   ],
   "source": [
    "model = buildOneToOneModel(X_train.shape)"
   ]
  },
  {
   "cell_type": "code",
   "execution_count": 67,
   "metadata": {
    "tags": []
   },
   "outputs": [
    {
     "output_type": "stream",
     "name": "stdout",
     "text": [
      "Epoch 1/1000\n",
      "31/31 [==============================] - 5s 80ms/step - loss: 52.2650 - mean_absolute_error: 52.2650 - val_loss: 38.6570 - val_mean_absolute_error: 38.6570\n",
      "Epoch 2/1000\n",
      "31/31 [==============================] - 2s 55ms/step - loss: 36.6658 - mean_absolute_error: 36.6658 - val_loss: 35.8138 - val_mean_absolute_error: 35.8138\n",
      "Epoch 3/1000\n",
      "31/31 [==============================] - 2s 60ms/step - loss: 35.0970 - mean_absolute_error: 35.0970 - val_loss: 35.9666 - val_mean_absolute_error: 35.9666\n",
      "Epoch 4/1000\n",
      "31/31 [==============================] - 2s 62ms/step - loss: 35.1409 - mean_absolute_error: 35.1409 - val_loss: 35.7788 - val_mean_absolute_error: 35.7788\n",
      "Epoch 5/1000\n",
      "31/31 [==============================] - 2s 59ms/step - loss: 35.0793 - mean_absolute_error: 35.0793 - val_loss: 35.6654 - val_mean_absolute_error: 35.6654\n",
      "Epoch 6/1000\n",
      "31/31 [==============================] - 2s 54ms/step - loss: 35.1787 - mean_absolute_error: 35.1787 - val_loss: 35.2235 - val_mean_absolute_error: 35.2235\n",
      "Epoch 7/1000\n",
      "31/31 [==============================] - 2s 55ms/step - loss: 34.3056 - mean_absolute_error: 34.3056 - val_loss: 23.5286 - val_mean_absolute_error: 23.5286\n",
      "Epoch 8/1000\n",
      "31/31 [==============================] - 2s 58ms/step - loss: 20.0209 - mean_absolute_error: 20.0209 - val_loss: 15.1547 - val_mean_absolute_error: 15.1547\n",
      "Epoch 9/1000\n",
      "31/31 [==============================] - 2s 56ms/step - loss: 13.9875 - mean_absolute_error: 13.9875 - val_loss: 10.6048 - val_mean_absolute_error: 10.6048\n",
      "Epoch 10/1000\n",
      "31/31 [==============================] - 2s 59ms/step - loss: 11.1475 - mean_absolute_error: 11.1475 - val_loss: 10.7831 - val_mean_absolute_error: 10.7831\n",
      "Epoch 11/1000\n",
      "31/31 [==============================] - 2s 55ms/step - loss: 10.0719 - mean_absolute_error: 10.0719 - val_loss: 8.6475 - val_mean_absolute_error: 8.6475\n",
      "Epoch 12/1000\n",
      "31/31 [==============================] - 2s 55ms/step - loss: 9.0207 - mean_absolute_error: 9.0207 - val_loss: 7.9651 - val_mean_absolute_error: 7.9651\n",
      "Epoch 13/1000\n",
      "31/31 [==============================] - 2s 55ms/step - loss: 7.9803 - mean_absolute_error: 7.9803 - val_loss: 7.9050 - val_mean_absolute_error: 7.9050\n",
      "Epoch 14/1000\n",
      "31/31 [==============================] - 2s 55ms/step - loss: 7.6365 - mean_absolute_error: 7.6365 - val_loss: 6.7317 - val_mean_absolute_error: 6.7317\n",
      "Epoch 15/1000\n",
      "31/31 [==============================] - 2s 53ms/step - loss: 8.0005 - mean_absolute_error: 8.0005 - val_loss: 5.9650 - val_mean_absolute_error: 5.9650\n",
      "Epoch 16/1000\n",
      "31/31 [==============================] - 2s 56ms/step - loss: 6.5030 - mean_absolute_error: 6.5030 - val_loss: 7.8661 - val_mean_absolute_error: 7.8661\n",
      "Epoch 17/1000\n",
      "31/31 [==============================] - 2s 55ms/step - loss: 6.3747 - mean_absolute_error: 6.3747 - val_loss: 5.2029 - val_mean_absolute_error: 5.2029\n",
      "Epoch 18/1000\n",
      "31/31 [==============================] - 2s 56ms/step - loss: 5.6742 - mean_absolute_error: 5.6742 - val_loss: 5.8642 - val_mean_absolute_error: 5.8642\n",
      "Epoch 19/1000\n",
      "31/31 [==============================] - 2s 61ms/step - loss: 6.1290 - mean_absolute_error: 6.1290 - val_loss: 4.8484 - val_mean_absolute_error: 4.8484\n",
      "Epoch 20/1000\n",
      "31/31 [==============================] - 2s 54ms/step - loss: 5.1375 - mean_absolute_error: 5.1375 - val_loss: 11.4568 - val_mean_absolute_error: 11.4568\n",
      "Epoch 21/1000\n",
      "31/31 [==============================] - 2s 58ms/step - loss: 8.9536 - mean_absolute_error: 8.9536 - val_loss: 5.4195 - val_mean_absolute_error: 5.4195\n",
      "Epoch 22/1000\n",
      "31/31 [==============================] - 2s 54ms/step - loss: 5.2827 - mean_absolute_error: 5.2827 - val_loss: 4.3612 - val_mean_absolute_error: 4.3612\n",
      "Epoch 23/1000\n",
      "31/31 [==============================] - 2s 56ms/step - loss: 4.7342 - mean_absolute_error: 4.7342 - val_loss: 5.0867 - val_mean_absolute_error: 5.0867\n",
      "Epoch 24/1000\n",
      "31/31 [==============================] - 2s 54ms/step - loss: 4.6997 - mean_absolute_error: 4.6997 - val_loss: 6.2428 - val_mean_absolute_error: 6.2428\n",
      "Epoch 25/1000\n",
      "31/31 [==============================] - 2s 57ms/step - loss: 5.5412 - mean_absolute_error: 5.5412 - val_loss: 4.5107 - val_mean_absolute_error: 4.5107\n",
      "Epoch 26/1000\n",
      "31/31 [==============================] - 2s 58ms/step - loss: 4.7085 - mean_absolute_error: 4.7085 - val_loss: 4.2130 - val_mean_absolute_error: 4.2130\n",
      "Epoch 27/1000\n",
      "31/31 [==============================] - 2s 57ms/step - loss: 4.5620 - mean_absolute_error: 4.5620 - val_loss: 4.1252 - val_mean_absolute_error: 4.1252\n",
      "Epoch 28/1000\n",
      "31/31 [==============================] - 2s 64ms/step - loss: 5.3173 - mean_absolute_error: 5.3173 - val_loss: 5.0826 - val_mean_absolute_error: 5.0826\n",
      "Epoch 29/1000\n",
      "31/31 [==============================] - 2s 51ms/step - loss: 4.8469 - mean_absolute_error: 4.8469 - val_loss: 4.0651 - val_mean_absolute_error: 4.0651\n",
      "Epoch 30/1000\n",
      "31/31 [==============================] - 2s 55ms/step - loss: 4.1509 - mean_absolute_error: 4.1509 - val_loss: 4.0328 - val_mean_absolute_error: 4.0328\n",
      "Epoch 31/1000\n",
      "31/31 [==============================] - 2s 55ms/step - loss: 4.2688 - mean_absolute_error: 4.2688 - val_loss: 3.6663 - val_mean_absolute_error: 3.6663\n",
      "Epoch 32/1000\n",
      "31/31 [==============================] - 2s 59ms/step - loss: 4.2499 - mean_absolute_error: 4.2499 - val_loss: 4.6837 - val_mean_absolute_error: 4.6837\n",
      "Epoch 33/1000\n",
      "31/31 [==============================] - 2s 58ms/step - loss: 4.0899 - mean_absolute_error: 4.0899 - val_loss: 3.4415 - val_mean_absolute_error: 3.4415\n",
      "Epoch 34/1000\n",
      "31/31 [==============================] - 2s 56ms/step - loss: 3.6615 - mean_absolute_error: 3.6615 - val_loss: 4.1899 - val_mean_absolute_error: 4.1899\n",
      "Epoch 35/1000\n",
      "31/31 [==============================] - 2s 58ms/step - loss: 4.1838 - mean_absolute_error: 4.1838 - val_loss: 6.5074 - val_mean_absolute_error: 6.5074\n",
      "Epoch 36/1000\n",
      "31/31 [==============================] - 2s 62ms/step - loss: 4.8515 - mean_absolute_error: 4.8515 - val_loss: 4.1465 - val_mean_absolute_error: 4.1465\n",
      "Epoch 37/1000\n",
      "31/31 [==============================] - 2s 61ms/step - loss: 4.0337 - mean_absolute_error: 4.0337 - val_loss: 2.8968 - val_mean_absolute_error: 2.8968\n",
      "Epoch 38/1000\n",
      "31/31 [==============================] - 2s 54ms/step - loss: 3.3671 - mean_absolute_error: 3.3671 - val_loss: 3.2908 - val_mean_absolute_error: 3.2908\n",
      "Epoch 39/1000\n",
      "31/31 [==============================] - 2s 56ms/step - loss: 3.4242 - mean_absolute_error: 3.4242 - val_loss: 2.9006 - val_mean_absolute_error: 2.9006\n",
      "Epoch 40/1000\n",
      "31/31 [==============================] - 2s 55ms/step - loss: 3.1798 - mean_absolute_error: 3.1798 - val_loss: 3.0281 - val_mean_absolute_error: 3.0281\n",
      "Epoch 41/1000\n",
      "31/31 [==============================] - 2s 56ms/step - loss: 3.8357 - mean_absolute_error: 3.8357 - val_loss: 2.9132 - val_mean_absolute_error: 2.9132\n",
      "Epoch 42/1000\n",
      "31/31 [==============================] - 2s 58ms/step - loss: 3.3993 - mean_absolute_error: 3.3993 - val_loss: 3.0677 - val_mean_absolute_error: 3.0677\n",
      "Epoch 43/1000\n",
      "31/31 [==============================] - 2s 54ms/step - loss: 3.5828 - mean_absolute_error: 3.5828 - val_loss: 4.8119 - val_mean_absolute_error: 4.8119\n",
      "Epoch 44/1000\n",
      "31/31 [==============================] - 2s 52ms/step - loss: 3.5980 - mean_absolute_error: 3.5980 - val_loss: 2.9980 - val_mean_absolute_error: 2.9980\n",
      "Epoch 45/1000\n",
      "31/31 [==============================] - 2s 54ms/step - loss: 3.5137 - mean_absolute_error: 3.5137 - val_loss: 5.9518 - val_mean_absolute_error: 5.9518\n",
      "Epoch 46/1000\n",
      "31/31 [==============================] - 2s 52ms/step - loss: 4.3731 - mean_absolute_error: 4.3731 - val_loss: 2.9354 - val_mean_absolute_error: 2.9354\n",
      "Epoch 47/1000\n",
      "31/31 [==============================] - 2s 55ms/step - loss: 3.5840 - mean_absolute_error: 3.5840 - val_loss: 4.4088 - val_mean_absolute_error: 4.4088\n",
      "Epoch 48/1000\n",
      "31/31 [==============================] - 2s 52ms/step - loss: 3.7859 - mean_absolute_error: 3.7859 - val_loss: 3.0018 - val_mean_absolute_error: 3.0018\n",
      "Epoch 49/1000\n",
      "31/31 [==============================] - 2s 52ms/step - loss: 3.1830 - mean_absolute_error: 3.1830 - val_loss: 3.1221 - val_mean_absolute_error: 3.1221\n",
      "Epoch 50/1000\n",
      "31/31 [==============================] - 2s 53ms/step - loss: 3.6130 - mean_absolute_error: 3.6130 - val_loss: 3.5036 - val_mean_absolute_error: 3.5036\n",
      "Epoch 00050: early stopping\n"
     ]
    }
   ],
   "source": [
    "callback = EarlyStopping(monitor=\"loss\", patience=10, verbose=1, mode=\"auto\")\n",
    "train_history = model.fit(X_train, Y_train, epochs=1000, batch_size=128, validation_data=(X_val, Y_val), callbacks=[callback])"
   ]
  },
  {
   "cell_type": "code",
   "execution_count": 68,
   "metadata": {},
   "outputs": [],
   "source": [
    "# loss function\n",
    "loss = train_history.history['loss']\n",
    "val_loss = train_history.history['val_loss']"
   ]
  },
  {
   "cell_type": "code",
   "execution_count": 69,
   "metadata": {},
   "outputs": [
    {
     "output_type": "display_data",
     "data": {
      "text/plain": "<Figure size 432x288 with 1 Axes>",
      "image/svg+xml": "<?xml version=\"1.0\" encoding=\"utf-8\" standalone=\"no\"?>\n<!DOCTYPE svg PUBLIC \"-//W3C//DTD SVG 1.1//EN\"\n  \"http://www.w3.org/Graphics/SVG/1.1/DTD/svg11.dtd\">\n<!-- Created with matplotlib (https://matplotlib.org/) -->\n<svg height=\"248.518125pt\" version=\"1.1\" viewBox=\"0 0 368.925 248.518125\" width=\"368.925pt\" xmlns=\"http://www.w3.org/2000/svg\" xmlns:xlink=\"http://www.w3.org/1999/xlink\">\n <metadata>\n  <rdf:RDF xmlns:cc=\"http://creativecommons.org/ns#\" xmlns:dc=\"http://purl.org/dc/elements/1.1/\" xmlns:rdf=\"http://www.w3.org/1999/02/22-rdf-syntax-ns#\">\n   <cc:Work>\n    <dc:type rdf:resource=\"http://purl.org/dc/dcmitype/StillImage\"/>\n    <dc:date>2021-03-26T23:26:23.332914</dc:date>\n    <dc:format>image/svg+xml</dc:format>\n    <dc:creator>\n     <cc:Agent>\n      <dc:title>Matplotlib v3.3.4, https://matplotlib.org/</dc:title>\n     </cc:Agent>\n    </dc:creator>\n   </cc:Work>\n  </rdf:RDF>\n </metadata>\n <defs>\n  <style type=\"text/css\">*{stroke-linecap:butt;stroke-linejoin:round;}</style>\n </defs>\n <g id=\"figure_1\">\n  <g id=\"patch_1\">\n   <path d=\"M -0 248.518125 \nL 368.925 248.518125 \nL 368.925 0 \nL -0 0 \nz\n\" style=\"fill:none;\"/>\n  </g>\n  <g id=\"axes_1\">\n   <g id=\"patch_2\">\n    <path d=\"M 26.925 224.64 \nL 361.725 224.64 \nL 361.725 7.2 \nL 26.925 7.2 \nz\n\" style=\"fill:#ffffff;\"/>\n   </g>\n   <g id=\"matplotlib.axis_1\">\n    <g id=\"xtick_1\">\n     <g id=\"line2d_1\">\n      <defs>\n       <path d=\"M 0 0 \nL 0 3.5 \n\" id=\"mad18c7d6cd\" style=\"stroke:#000000;stroke-width:0.8;\"/>\n      </defs>\n      <g>\n       <use style=\"stroke:#000000;stroke-width:0.8;\" x=\"42.143182\" xlink:href=\"#mad18c7d6cd\" y=\"224.64\"/>\n      </g>\n     </g>\n     <g id=\"text_1\">\n      <!-- 0 -->\n      <g transform=\"translate(38.961932 239.238438)scale(0.1 -0.1)\">\n       <defs>\n        <path d=\"M 31.78125 66.40625 \nQ 24.171875 66.40625 20.328125 58.90625 \nQ 16.5 51.421875 16.5 36.375 \nQ 16.5 21.390625 20.328125 13.890625 \nQ 24.171875 6.390625 31.78125 6.390625 \nQ 39.453125 6.390625 43.28125 13.890625 \nQ 47.125 21.390625 47.125 36.375 \nQ 47.125 51.421875 43.28125 58.90625 \nQ 39.453125 66.40625 31.78125 66.40625 \nz\nM 31.78125 74.21875 \nQ 44.046875 74.21875 50.515625 64.515625 \nQ 56.984375 54.828125 56.984375 36.375 \nQ 56.984375 17.96875 50.515625 8.265625 \nQ 44.046875 -1.421875 31.78125 -1.421875 \nQ 19.53125 -1.421875 13.0625 8.265625 \nQ 6.59375 17.96875 6.59375 36.375 \nQ 6.59375 54.828125 13.0625 64.515625 \nQ 19.53125 74.21875 31.78125 74.21875 \nz\n\" id=\"DejaVuSans-48\"/>\n       </defs>\n       <use xlink:href=\"#DejaVuSans-48\"/>\n      </g>\n     </g>\n    </g>\n    <g id=\"xtick_2\">\n     <g id=\"line2d_2\">\n      <g>\n       <use style=\"stroke:#000000;stroke-width:0.8;\" x=\"104.25821\" xlink:href=\"#mad18c7d6cd\" y=\"224.64\"/>\n      </g>\n     </g>\n     <g id=\"text_2\">\n      <!-- 10 -->\n      <g transform=\"translate(97.89571 239.238438)scale(0.1 -0.1)\">\n       <defs>\n        <path d=\"M 12.40625 8.296875 \nL 28.515625 8.296875 \nL 28.515625 63.921875 \nL 10.984375 60.40625 \nL 10.984375 69.390625 \nL 28.421875 72.90625 \nL 38.28125 72.90625 \nL 38.28125 8.296875 \nL 54.390625 8.296875 \nL 54.390625 0 \nL 12.40625 0 \nz\n\" id=\"DejaVuSans-49\"/>\n       </defs>\n       <use xlink:href=\"#DejaVuSans-49\"/>\n       <use x=\"63.623047\" xlink:href=\"#DejaVuSans-48\"/>\n      </g>\n     </g>\n    </g>\n    <g id=\"xtick_3\">\n     <g id=\"line2d_3\">\n      <g>\n       <use style=\"stroke:#000000;stroke-width:0.8;\" x=\"166.373237\" xlink:href=\"#mad18c7d6cd\" y=\"224.64\"/>\n      </g>\n     </g>\n     <g id=\"text_3\">\n      <!-- 20 -->\n      <g transform=\"translate(160.010737 239.238438)scale(0.1 -0.1)\">\n       <defs>\n        <path d=\"M 19.1875 8.296875 \nL 53.609375 8.296875 \nL 53.609375 0 \nL 7.328125 0 \nL 7.328125 8.296875 \nQ 12.9375 14.109375 22.625 23.890625 \nQ 32.328125 33.6875 34.8125 36.53125 \nQ 39.546875 41.84375 41.421875 45.53125 \nQ 43.3125 49.21875 43.3125 52.78125 \nQ 43.3125 58.59375 39.234375 62.25 \nQ 35.15625 65.921875 28.609375 65.921875 \nQ 23.96875 65.921875 18.8125 64.3125 \nQ 13.671875 62.703125 7.8125 59.421875 \nL 7.8125 69.390625 \nQ 13.765625 71.78125 18.9375 73 \nQ 24.125 74.21875 28.421875 74.21875 \nQ 39.75 74.21875 46.484375 68.546875 \nQ 53.21875 62.890625 53.21875 53.421875 \nQ 53.21875 48.921875 51.53125 44.890625 \nQ 49.859375 40.875 45.40625 35.40625 \nQ 44.1875 33.984375 37.640625 27.21875 \nQ 31.109375 20.453125 19.1875 8.296875 \nz\n\" id=\"DejaVuSans-50\"/>\n       </defs>\n       <use xlink:href=\"#DejaVuSans-50\"/>\n       <use x=\"63.623047\" xlink:href=\"#DejaVuSans-48\"/>\n      </g>\n     </g>\n    </g>\n    <g id=\"xtick_4\">\n     <g id=\"line2d_4\">\n      <g>\n       <use style=\"stroke:#000000;stroke-width:0.8;\" x=\"228.488265\" xlink:href=\"#mad18c7d6cd\" y=\"224.64\"/>\n      </g>\n     </g>\n     <g id=\"text_4\">\n      <!-- 30 -->\n      <g transform=\"translate(222.125765 239.238438)scale(0.1 -0.1)\">\n       <defs>\n        <path d=\"M 40.578125 39.3125 \nQ 47.65625 37.796875 51.625 33 \nQ 55.609375 28.21875 55.609375 21.1875 \nQ 55.609375 10.40625 48.1875 4.484375 \nQ 40.765625 -1.421875 27.09375 -1.421875 \nQ 22.515625 -1.421875 17.65625 -0.515625 \nQ 12.796875 0.390625 7.625 2.203125 \nL 7.625 11.71875 \nQ 11.71875 9.328125 16.59375 8.109375 \nQ 21.484375 6.890625 26.8125 6.890625 \nQ 36.078125 6.890625 40.9375 10.546875 \nQ 45.796875 14.203125 45.796875 21.1875 \nQ 45.796875 27.640625 41.28125 31.265625 \nQ 36.765625 34.90625 28.71875 34.90625 \nL 20.21875 34.90625 \nL 20.21875 43.015625 \nL 29.109375 43.015625 \nQ 36.375 43.015625 40.234375 45.921875 \nQ 44.09375 48.828125 44.09375 54.296875 \nQ 44.09375 59.90625 40.109375 62.90625 \nQ 36.140625 65.921875 28.71875 65.921875 \nQ 24.65625 65.921875 20.015625 65.03125 \nQ 15.375 64.15625 9.8125 62.3125 \nL 9.8125 71.09375 \nQ 15.4375 72.65625 20.34375 73.4375 \nQ 25.25 74.21875 29.59375 74.21875 \nQ 40.828125 74.21875 47.359375 69.109375 \nQ 53.90625 64.015625 53.90625 55.328125 \nQ 53.90625 49.265625 50.4375 45.09375 \nQ 46.96875 40.921875 40.578125 39.3125 \nz\n\" id=\"DejaVuSans-51\"/>\n       </defs>\n       <use xlink:href=\"#DejaVuSans-51\"/>\n       <use x=\"63.623047\" xlink:href=\"#DejaVuSans-48\"/>\n      </g>\n     </g>\n    </g>\n    <g id=\"xtick_5\">\n     <g id=\"line2d_5\">\n      <g>\n       <use style=\"stroke:#000000;stroke-width:0.8;\" x=\"290.603293\" xlink:href=\"#mad18c7d6cd\" y=\"224.64\"/>\n      </g>\n     </g>\n     <g id=\"text_5\">\n      <!-- 40 -->\n      <g transform=\"translate(284.240793 239.238438)scale(0.1 -0.1)\">\n       <defs>\n        <path d=\"M 37.796875 64.3125 \nL 12.890625 25.390625 \nL 37.796875 25.390625 \nz\nM 35.203125 72.90625 \nL 47.609375 72.90625 \nL 47.609375 25.390625 \nL 58.015625 25.390625 \nL 58.015625 17.1875 \nL 47.609375 17.1875 \nL 47.609375 0 \nL 37.796875 0 \nL 37.796875 17.1875 \nL 4.890625 17.1875 \nL 4.890625 26.703125 \nz\n\" id=\"DejaVuSans-52\"/>\n       </defs>\n       <use xlink:href=\"#DejaVuSans-52\"/>\n       <use x=\"63.623047\" xlink:href=\"#DejaVuSans-48\"/>\n      </g>\n     </g>\n    </g>\n    <g id=\"xtick_6\">\n     <g id=\"line2d_6\">\n      <g>\n       <use style=\"stroke:#000000;stroke-width:0.8;\" x=\"352.718321\" xlink:href=\"#mad18c7d6cd\" y=\"224.64\"/>\n      </g>\n     </g>\n     <g id=\"text_6\">\n      <!-- 50 -->\n      <g transform=\"translate(346.355821 239.238438)scale(0.1 -0.1)\">\n       <defs>\n        <path d=\"M 10.796875 72.90625 \nL 49.515625 72.90625 \nL 49.515625 64.59375 \nL 19.828125 64.59375 \nL 19.828125 46.734375 \nQ 21.96875 47.46875 24.109375 47.828125 \nQ 26.265625 48.1875 28.421875 48.1875 \nQ 40.625 48.1875 47.75 41.5 \nQ 54.890625 34.8125 54.890625 23.390625 \nQ 54.890625 11.625 47.5625 5.09375 \nQ 40.234375 -1.421875 26.90625 -1.421875 \nQ 22.3125 -1.421875 17.546875 -0.640625 \nQ 12.796875 0.140625 7.71875 1.703125 \nL 7.71875 11.625 \nQ 12.109375 9.234375 16.796875 8.0625 \nQ 21.484375 6.890625 26.703125 6.890625 \nQ 35.15625 6.890625 40.078125 11.328125 \nQ 45.015625 15.765625 45.015625 23.390625 \nQ 45.015625 31 40.078125 35.4375 \nQ 35.15625 39.890625 26.703125 39.890625 \nQ 22.75 39.890625 18.8125 39.015625 \nQ 14.890625 38.140625 10.796875 36.28125 \nz\n\" id=\"DejaVuSans-53\"/>\n       </defs>\n       <use xlink:href=\"#DejaVuSans-53\"/>\n       <use x=\"63.623047\" xlink:href=\"#DejaVuSans-48\"/>\n      </g>\n     </g>\n    </g>\n   </g>\n   <g id=\"matplotlib.axis_2\">\n    <g id=\"ytick_1\">\n     <g id=\"line2d_7\">\n      <defs>\n       <path d=\"M 0 0 \nL -3.5 0 \n\" id=\"m522012f19c\" style=\"stroke:#000000;stroke-width:0.8;\"/>\n      </defs>\n      <g>\n       <use style=\"stroke:#000000;stroke-width:0.8;\" x=\"26.925\" xlink:href=\"#m522012f19c\" y=\"183.241272\"/>\n      </g>\n     </g>\n     <g id=\"text_7\">\n      <!-- 10 -->\n      <g transform=\"translate(7.2 187.04049)scale(0.1 -0.1)\">\n       <use xlink:href=\"#DejaVuSans-49\"/>\n       <use x=\"63.623047\" xlink:href=\"#DejaVuSans-48\"/>\n      </g>\n     </g>\n    </g>\n    <g id=\"ytick_2\">\n     <g id=\"line2d_8\">\n      <g>\n       <use style=\"stroke:#000000;stroke-width:0.8;\" x=\"26.925\" xlink:href=\"#m522012f19c\" y=\"138.873905\"/>\n      </g>\n     </g>\n     <g id=\"text_8\">\n      <!-- 20 -->\n      <g transform=\"translate(7.2 142.673124)scale(0.1 -0.1)\">\n       <use xlink:href=\"#DejaVuSans-50\"/>\n       <use x=\"63.623047\" xlink:href=\"#DejaVuSans-48\"/>\n      </g>\n     </g>\n    </g>\n    <g id=\"ytick_3\">\n     <g id=\"line2d_9\">\n      <g>\n       <use style=\"stroke:#000000;stroke-width:0.8;\" x=\"26.925\" xlink:href=\"#m522012f19c\" y=\"94.506539\"/>\n      </g>\n     </g>\n     <g id=\"text_9\">\n      <!-- 30 -->\n      <g transform=\"translate(7.2 98.305758)scale(0.1 -0.1)\">\n       <use xlink:href=\"#DejaVuSans-51\"/>\n       <use x=\"63.623047\" xlink:href=\"#DejaVuSans-48\"/>\n      </g>\n     </g>\n    </g>\n    <g id=\"ytick_4\">\n     <g id=\"line2d_10\">\n      <g>\n       <use style=\"stroke:#000000;stroke-width:0.8;\" x=\"26.925\" xlink:href=\"#m522012f19c\" y=\"50.139172\"/>\n      </g>\n     </g>\n     <g id=\"text_10\">\n      <!-- 40 -->\n      <g transform=\"translate(7.2 53.938391)scale(0.1 -0.1)\">\n       <use xlink:href=\"#DejaVuSans-52\"/>\n       <use x=\"63.623047\" xlink:href=\"#DejaVuSans-48\"/>\n      </g>\n     </g>\n    </g>\n   </g>\n   <g id=\"line2d_11\">\n    <path clip-path=\"url(#p7895fb0289)\" d=\"M 42.143182 17.083636 \nL 48.354685 67.798245 \nL 54.566187 71.078696 \nL 60.77769 71.31412 \nL 66.989193 71.699989 \nL 73.200696 71.895487 \nL 79.412199 79.23168 \nL 85.623701 142.73893 \nL 91.835204 170.738134 \nL 98.046707 178.262446 \nL 104.25821 184.830727 \nL 110.469712 188.794648 \nL 116.681215 192.864133 \nL 122.892718 193.682268 \nL 129.104221 192.887398 \nL 135.315724 199.756479 \nL 141.527226 201.337324 \nL 147.738729 202.093099 \nL 153.950232 200.589812 \nL 160.161735 204.723436 \nL 166.373237 193.033563 \nL 172.58474 205.196868 \nL 178.796243 206.817378 \nL 185.007746 207.277134 \nL 191.219249 203.353718 \nL 197.430751 206.558841 \nL 203.642254 207.649173 \nL 209.853757 205.047652 \nL 216.06526 206.971302 \nL 222.276763 209.459903 \nL 228.488265 208.766741 \nL 234.699768 206.725592 \nL 240.911271 210.082563 \nL 247.122774 209.772927 \nL 253.334276 208.986383 \nL 259.545779 207.711543 \nL 265.757282 209.804289 \nL 271.968785 212.503452 \nL 278.180288 212.606656 \nL 284.39179 213.497736 \nL 290.603293 210.013585 \nL 296.814796 212.533965 \nL 303.026299 210.469803 \nL 309.237801 212.469388 \nL 315.449304 210.905172 \nL 321.660807 209.696785 \nL 327.87231 211.599797 \nL 334.083813 211.623175 \nL 340.295315 213.318 \nL 346.506818 211.29018 \n\" style=\"fill:none;stroke:#1f77b4;stroke-linecap:square;stroke-width:1.5;\"/>\n   </g>\n   <g id=\"line2d_12\">\n    <path clip-path=\"url(#p7895fb0289)\" d=\"M 42.143182 56.097872 \nL 48.354685 68.712185 \nL 54.566187 68.034499 \nL 60.77769 68.867622 \nL 66.989193 69.370662 \nL 73.200696 71.33113 \nL 79.412199 123.218289 \nL 85.623701 160.371279 \nL 91.835204 180.558076 \nL 98.046707 179.76671 \nL 104.25821 189.241865 \nL 110.469712 192.269562 \nL 116.681215 192.536024 \nL 122.892718 197.741816 \nL 129.104221 201.143387 \nL 135.315724 192.709038 \nL 141.527226 204.524538 \nL 147.738729 201.59065 \nL 153.950232 206.097566 \nL 160.161735 176.777755 \nL 166.373237 203.563746 \nL 172.58474 208.259359 \nL 178.796243 205.04007 \nL 185.007746 199.911001 \nL 191.219249 207.59605 \nL 197.430751 208.916559 \nL 203.642254 209.306329 \nL 209.853757 205.058672 \nL 216.06526 209.572736 \nL 222.276763 209.716238 \nL 228.488265 211.342137 \nL 234.699768 206.828493 \nL 240.911271 212.339823 \nL 247.122774 209.019086 \nL 253.334276 198.737179 \nL 259.545779 209.211887 \nL 265.757282 214.756364 \nL 271.968785 213.00813 \nL 278.180288 214.739565 \nL 284.39179 214.173873 \nL 290.603293 214.683683 \nL 296.814796 213.997867 \nL 303.026299 206.259716 \nL 309.237801 214.307424 \nL 315.449304 201.202234 \nL 321.660807 214.585151 \nL 327.87231 208.048074 \nL 334.083813 214.290582 \nL 340.295315 213.756649 \nL 346.506818 212.064048 \n\" style=\"fill:none;stroke:#ff7f0e;stroke-linecap:square;stroke-width:1.5;\"/>\n   </g>\n   <g id=\"patch_3\">\n    <path d=\"M 26.925 224.64 \nL 26.925 7.2 \n\" style=\"fill:none;stroke:#000000;stroke-linecap:square;stroke-linejoin:miter;stroke-width:0.8;\"/>\n   </g>\n   <g id=\"patch_4\">\n    <path d=\"M 361.725 224.64 \nL 361.725 7.2 \n\" style=\"fill:none;stroke:#000000;stroke-linecap:square;stroke-linejoin:miter;stroke-width:0.8;\"/>\n   </g>\n   <g id=\"patch_5\">\n    <path d=\"M 26.925 224.64 \nL 361.725 224.64 \n\" style=\"fill:none;stroke:#000000;stroke-linecap:square;stroke-linejoin:miter;stroke-width:0.8;\"/>\n   </g>\n   <g id=\"patch_6\">\n    <path d=\"M 26.925 7.2 \nL 361.725 7.2 \n\" style=\"fill:none;stroke:#000000;stroke-linecap:square;stroke-linejoin:miter;stroke-width:0.8;\"/>\n   </g>\n   <g id=\"legend_1\">\n    <g id=\"patch_7\">\n     <path d=\"M 283.584375 44.834375 \nL 354.725 44.834375 \nQ 356.725 44.834375 356.725 42.834375 \nL 356.725 14.2 \nQ 356.725 12.2 354.725 12.2 \nL 283.584375 12.2 \nQ 281.584375 12.2 281.584375 14.2 \nL 281.584375 42.834375 \nQ 281.584375 44.834375 283.584375 44.834375 \nz\n\" style=\"fill:#ffffff;opacity:0.8;stroke:#cccccc;stroke-linejoin:miter;\"/>\n    </g>\n    <g id=\"line2d_13\">\n     <path d=\"M 285.584375 20.298437 \nL 305.584375 20.298437 \n\" style=\"fill:none;stroke:#1f77b4;stroke-linecap:square;stroke-width:1.5;\"/>\n    </g>\n    <g id=\"line2d_14\"/>\n    <g id=\"text_11\">\n     <!-- loss -->\n     <g transform=\"translate(313.584375 23.798437)scale(0.1 -0.1)\">\n      <defs>\n       <path d=\"M 9.421875 75.984375 \nL 18.40625 75.984375 \nL 18.40625 0 \nL 9.421875 0 \nz\n\" id=\"DejaVuSans-108\"/>\n       <path d=\"M 30.609375 48.390625 \nQ 23.390625 48.390625 19.1875 42.75 \nQ 14.984375 37.109375 14.984375 27.296875 \nQ 14.984375 17.484375 19.15625 11.84375 \nQ 23.34375 6.203125 30.609375 6.203125 \nQ 37.796875 6.203125 41.984375 11.859375 \nQ 46.1875 17.53125 46.1875 27.296875 \nQ 46.1875 37.015625 41.984375 42.703125 \nQ 37.796875 48.390625 30.609375 48.390625 \nz\nM 30.609375 56 \nQ 42.328125 56 49.015625 48.375 \nQ 55.71875 40.765625 55.71875 27.296875 \nQ 55.71875 13.875 49.015625 6.21875 \nQ 42.328125 -1.421875 30.609375 -1.421875 \nQ 18.84375 -1.421875 12.171875 6.21875 \nQ 5.515625 13.875 5.515625 27.296875 \nQ 5.515625 40.765625 12.171875 48.375 \nQ 18.84375 56 30.609375 56 \nz\n\" id=\"DejaVuSans-111\"/>\n       <path d=\"M 44.28125 53.078125 \nL 44.28125 44.578125 \nQ 40.484375 46.53125 36.375 47.5 \nQ 32.28125 48.484375 27.875 48.484375 \nQ 21.1875 48.484375 17.84375 46.4375 \nQ 14.5 44.390625 14.5 40.28125 \nQ 14.5 37.15625 16.890625 35.375 \nQ 19.28125 33.59375 26.515625 31.984375 \nL 29.59375 31.296875 \nQ 39.15625 29.25 43.1875 25.515625 \nQ 47.21875 21.78125 47.21875 15.09375 \nQ 47.21875 7.46875 41.1875 3.015625 \nQ 35.15625 -1.421875 24.609375 -1.421875 \nQ 20.21875 -1.421875 15.453125 -0.5625 \nQ 10.6875 0.296875 5.421875 2 \nL 5.421875 11.28125 \nQ 10.40625 8.6875 15.234375 7.390625 \nQ 20.0625 6.109375 24.8125 6.109375 \nQ 31.15625 6.109375 34.5625 8.28125 \nQ 37.984375 10.453125 37.984375 14.40625 \nQ 37.984375 18.0625 35.515625 20.015625 \nQ 33.0625 21.96875 24.703125 23.78125 \nL 21.578125 24.515625 \nQ 13.234375 26.265625 9.515625 29.90625 \nQ 5.8125 33.546875 5.8125 39.890625 \nQ 5.8125 47.609375 11.28125 51.796875 \nQ 16.75 56 26.8125 56 \nQ 31.78125 56 36.171875 55.265625 \nQ 40.578125 54.546875 44.28125 53.078125 \nz\n\" id=\"DejaVuSans-115\"/>\n      </defs>\n      <use xlink:href=\"#DejaVuSans-108\"/>\n      <use x=\"27.783203\" xlink:href=\"#DejaVuSans-111\"/>\n      <use x=\"88.964844\" xlink:href=\"#DejaVuSans-115\"/>\n      <use x=\"141.064453\" xlink:href=\"#DejaVuSans-115\"/>\n     </g>\n    </g>\n    <g id=\"line2d_15\">\n     <path d=\"M 285.584375 34.976562 \nL 305.584375 34.976562 \n\" style=\"fill:none;stroke:#ff7f0e;stroke-linecap:square;stroke-width:1.5;\"/>\n    </g>\n    <g id=\"line2d_16\"/>\n    <g id=\"text_12\">\n     <!-- val_loss -->\n     <g transform=\"translate(313.584375 38.476562)scale(0.1 -0.1)\">\n      <defs>\n       <path d=\"M 2.984375 54.6875 \nL 12.5 54.6875 \nL 29.59375 8.796875 \nL 46.6875 54.6875 \nL 56.203125 54.6875 \nL 35.6875 0 \nL 23.484375 0 \nz\n\" id=\"DejaVuSans-118\"/>\n       <path d=\"M 34.28125 27.484375 \nQ 23.390625 27.484375 19.1875 25 \nQ 14.984375 22.515625 14.984375 16.5 \nQ 14.984375 11.71875 18.140625 8.90625 \nQ 21.296875 6.109375 26.703125 6.109375 \nQ 34.1875 6.109375 38.703125 11.40625 \nQ 43.21875 16.703125 43.21875 25.484375 \nL 43.21875 27.484375 \nz\nM 52.203125 31.203125 \nL 52.203125 0 \nL 43.21875 0 \nL 43.21875 8.296875 \nQ 40.140625 3.328125 35.546875 0.953125 \nQ 30.953125 -1.421875 24.3125 -1.421875 \nQ 15.921875 -1.421875 10.953125 3.296875 \nQ 6 8.015625 6 15.921875 \nQ 6 25.140625 12.171875 29.828125 \nQ 18.359375 34.515625 30.609375 34.515625 \nL 43.21875 34.515625 \nL 43.21875 35.40625 \nQ 43.21875 41.609375 39.140625 45 \nQ 35.0625 48.390625 27.6875 48.390625 \nQ 23 48.390625 18.546875 47.265625 \nQ 14.109375 46.140625 10.015625 43.890625 \nL 10.015625 52.203125 \nQ 14.9375 54.109375 19.578125 55.046875 \nQ 24.21875 56 28.609375 56 \nQ 40.484375 56 46.34375 49.84375 \nQ 52.203125 43.703125 52.203125 31.203125 \nz\n\" id=\"DejaVuSans-97\"/>\n       <path d=\"M 50.984375 -16.609375 \nL 50.984375 -23.578125 \nL -0.984375 -23.578125 \nL -0.984375 -16.609375 \nz\n\" id=\"DejaVuSans-95\"/>\n      </defs>\n      <use xlink:href=\"#DejaVuSans-118\"/>\n      <use x=\"59.179688\" xlink:href=\"#DejaVuSans-97\"/>\n      <use x=\"120.458984\" xlink:href=\"#DejaVuSans-108\"/>\n      <use x=\"148.242188\" xlink:href=\"#DejaVuSans-95\"/>\n      <use x=\"198.242188\" xlink:href=\"#DejaVuSans-108\"/>\n      <use x=\"226.025391\" xlink:href=\"#DejaVuSans-111\"/>\n      <use x=\"287.207031\" xlink:href=\"#DejaVuSans-115\"/>\n      <use x=\"339.306641\" xlink:href=\"#DejaVuSans-115\"/>\n     </g>\n    </g>\n   </g>\n  </g>\n </g>\n <defs>\n  <clipPath id=\"p7895fb0289\">\n   <rect height=\"217.44\" width=\"334.8\" x=\"26.925\" y=\"7.2\"/>\n  </clipPath>\n </defs>\n</svg>\n",
      "image/png": "[encoded data removed]"
     },
     "metadata": {
      "needs_background": "light"
     }
    }
   ],
   "source": [
    "plt.plot(loss, label='loss')\n",
    "plt.plot(val_loss, label='val_loss')\n",
    "plt.legend()\n",
    "plt.show()"
   ]
  },
  {
   "cell_type": "code",
   "execution_count": 73,
   "metadata": {},
   "outputs": [],
   "source": [
    "# save my model\n",
    "model.save('stock_lstm_v1.h5')"
   ]
  },
  {
   "cell_type": "code",
   "execution_count": 70,
   "metadata": {},
   "outputs": [
    {
     "output_type": "stream",
     "name": "stdout",
     "text": [
      "4/4 [==============================] - 0s 21ms/step - loss: 3.5036 - mean_absolute_error: 3.5036\n",
      "Test Result:  [3.5036089420318604, 3.5036089420318604]\n"
     ]
    }
   ],
   "source": [
    "test = model.evaluate(X_val, Y_val, batch_size=128)\n",
    "print('Test Result: ', test)"
   ]
  },
  {
   "cell_type": "code",
   "execution_count": 71,
   "metadata": {},
   "outputs": [
    {
     "output_type": "stream",
     "name": "stdout",
     "text": [
      "WARNING:tensorflow:5 out of the last 5 calls to <function Model.make_predict_function.<locals>.predict_function at 0x7f06b114d378> triggered tf.function retracing. Tracing is expensive and the excessive number of tracings could be due to (1) creating @tf.function repeatedly in a loop, (2) passing tensors with different shapes, (3) passing Python objects instead of tensors. For (1), please define your @tf.function outside of the loop. For (2), @tf.function has experimental_relax_shapes=True option that relaxes argument shapes that can avoid unnecessary retracing. For (3), please refer to https://www.tensorflow.org/guide/function#controlling_retracing and https://www.tensorflow.org/api_docs/python/tf/function for  more details.\n",
      "Predict Result [[123.25262  124.66886  124.978134 124.51701  124.59271 ]]\n"
     ]
    }
   ],
   "source": [
    "# Predict the future price with trained model\n",
    "X_pre = np.array([X_pre])\n",
    "print('Predict Result', model.predict(X_pre))"
   ]
  },
  {
   "cell_type": "code",
   "execution_count": null,
   "metadata": {},
   "outputs": [],
   "source": []
  }
 ]
}